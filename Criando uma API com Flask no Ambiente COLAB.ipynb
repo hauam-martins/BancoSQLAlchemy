{
  "nbformat": 4,
  "nbformat_minor": 0,
  "metadata": {
    "colab": {
      "provenance": [],
      "authorship_tag": "ABX9TyPAae118SwpyTPd13Vfgces",
      "include_colab_link": true
    },
    "kernelspec": {
      "name": "python3",
      "display_name": "Python 3"
    },
    "language_info": {
      "name": "python"
    }
  },
  "cells": [
    {
      "cell_type": "markdown",
      "metadata": {
        "id": "view-in-github",
        "colab_type": "text"
      },
      "source": [
        "<a href=\"https://colab.research.google.com/github/hauam-martins/BancoSQLAlchemy/blob/main/Criando%20uma%20API%20com%20Flask%20no%20Ambiente%20COLAB.ipynb\" target=\"_parent\"><img src=\"https://colab.research.google.com/assets/colab-badge.svg\" alt=\"Open In Colab\"/></a>"
      ]
    },
    {
      "cell_type": "code",
      "source": [
        "!pip install flask\n",
        "!pip install flask-ngrok"
      ],
      "metadata": {
        "id": "xWcYYLwZxOcf"
      },
      "execution_count": null,
      "outputs": []
    },
    {
      "cell_type": "code",
      "source": [
        "from flask import *\n",
        "from flask_ngrok import run_with_ngrok\n",
        "app = Flask(__name__)\n",
        "@app.route('/index')\n",
        "def home():\n",
        "  return 'Hi Lorena'"
      ],
      "metadata": {
        "id": "33TeMhb6xu6h"
      },
      "execution_count": 36,
      "outputs": []
    },
    {
      "cell_type": "code",
      "source": [
        "run_with_ngrok(app)\n",
        "app.run()"
      ],
      "metadata": {
        "id": "eW9vWPQu6FbC"
      },
      "execution_count": null,
      "outputs": []
    },
    {
      "cell_type": "code",
      "source": [
        "import pandas as pd\n",
        "from flask_ngrok import run_with_ngrok\n",
        "from flask import request, jsonify, Flask\n",
        "import random as rk"
      ],
      "metadata": {
        "id": "gce2c_4rypf2"
      },
      "execution_count": 38,
      "outputs": []
    },
    {
      "cell_type": "code",
      "source": [
        "app = Flask(__name__) #the name of the application package\n",
        "run_with_ngrok(app)"
      ],
      "metadata": {
        "id": "2Al4uruT0q7t"
      },
      "execution_count": 15,
      "outputs": []
    },
    {
      "cell_type": "code",
      "source": [
        "d = {\n",
        "    \"Number\": 1,\n",
        "    \"Name\": \"Mahesh\",\n",
        "    \"Age\": 25,\n",
        "    \"City\": \"Bangalore\",\n",
        "    \"Country\": \"India\"\n",
        "      }\n",
        "\n",
        "d =  {\n",
        "    \"Number\": 2,\n",
        "    \"Name\": \"Alex\",\n",
        "    \"Age\": 26,\n",
        "    \"City\": \"London\",\n",
        "    \"Country\": \"UK\"\n",
        "      }\n",
        "\n",
        "d =  {\n",
        "    \"Number\": 3,\n",
        "    \"Name\": \"David\",\n",
        "    \"Age\": 27,\n",
        "    \"City\": \"San Francisco\",\n",
        "    \"Country\": \"USA\"\n",
        "      }\n",
        "\n",
        "d =  {\n",
        "    \"Number\": 4,\n",
        "    \"Name\": \"John\",\n",
        "    \"Age\": 28,\n",
        "    \"City\": \"Toronto\",\n",
        "    \"Country\": \"Canada\"\n",
        "      }\n",
        "\n",
        "d =  {\n",
        "    \"Number\": 5,\n",
        "    \"Name\": \"Chris\",\n",
        "    \"Age\": 29,\n",
        "    \"City\": \"Paris\",\n",
        "    \"Country\": \"France\"\n",
        "      }"
      ],
      "metadata": {
        "id": "xCZh7vEr0zjU"
      },
      "execution_count": 21,
      "outputs": []
    },
    {
      "cell_type": "code",
      "source": [
        "@app.route(\"/\") #code to assign HomePage URL in our app to function home.\n",
        "\n",
        "def home():\n",
        "  '''\n",
        "  The entire line below must be written in a single line.\n",
        "  '''\n",
        "  return \"<marquee><h3> TO CHECK IN PUT ADD '/input' TO THE URL AND TO CHECK OUT PUT ADD '/output' TO THE URL.</h3></marquee>\""
      ],
      "metadata": {
        "id": "ZUNeQP9z4i4m"
      },
      "execution_count": 22,
      "outputs": []
    },
    {
      "cell_type": "code",
      "source": [
        "@app.route(\"/input\") #code to assign Input URL in our app to function input.\n",
        "\n",
        "def input():\n",
        "  return jsonify(d) # \"d\" is the dictionary we defined"
      ],
      "metadata": {
        "id": "1O7HFV3g4xak"
      },
      "execution_count": 23,
      "outputs": []
    },
    {
      "cell_type": "code",
      "source": [
        "@app.route('/output', methods=['GET','POST']) #output page\n",
        "\n",
        "def predJson():\n",
        " pred = r.choice([\"positive\",\"negative\"])\n",
        " nd = d # our input\n",
        " nd[\"prediction\"]=pred\n",
        " return jsonify(nd)\n",
        "\n",
        "app.run()"
      ],
      "metadata": {
        "id": "a77y3UNb5B9W"
      },
      "execution_count": null,
      "outputs": []
    }
  ]
}